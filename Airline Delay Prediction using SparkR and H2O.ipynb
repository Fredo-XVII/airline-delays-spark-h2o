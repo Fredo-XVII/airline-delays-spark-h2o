{
 "cells": [
  {
   "cell_type": "markdown",
   "metadata": {},
   "source": [
    "<center><b><font size = '6' face = \"Times New Roman\">Predicting flight delays using SparkR and H2O</font></b></center>\n",
    "<ul>\n",
    "<li>Tina Wang</li>\n",
    "<li>Vaishnavi Jala</li>\n",
    "<li>Yuefeng Pan</li>\n",
    "<li>Surag Gupta</li>\n",
    "</ul>"
   ]
  },
  {
   "cell_type": "markdown",
   "metadata": {},
   "source": [
    "## Introduction"
   ]
  },
  {
   "cell_type": "markdown",
   "metadata": {},
   "source": [
    "The airline industry in US is totally a red ocean, there are so many airline carriers competing for very less margin, and new entrants keep increasing. Just like the quotes from CEO of American Airlines, Robert L. Crandall, “This is a nasty, rotten business”.\n",
    "\n",
    "\n",
    "In order to stay in the game, airline carriers are constantly striving to improve in many aspects such as customer services, price, food and so on. Among all the complaints from customers, airline delay is obviously the biggest issue, which can potentially be very costly to customers and airline carriers. In fact, with the increasing number of business and leisure travellers, flight delays are becoming a critical issue every airline carrier faces. Carriers who can accurately predict flight delay and plan flights and logistics accordingly will find huge competitive advantages over others.\n",
    "\n",
    "\n",
    "Our group is focusing on predicting the likelihood of flight delays through classification techniques. We are also proposing a methodology to predict the delay at each airport and for each carrier. Through accurate classification and numerical predictions, we can help carriers to manage delays ahead of time and save a lot of unexpected losses. This will enable carriers to plan flights in a smart way and optimize logistics and pricing for flights."
   ]
  },
  {
   "cell_type": "markdown",
   "metadata": {},
   "source": [
    "## Data processing and analysis using Big Data tools"
   ]
  },
  {
   "cell_type": "markdown",
   "metadata": {},
   "source": [
    "### Data collection"
   ]
  },
  {
   "cell_type": "markdown",
   "metadata": {},
   "source": [
    "We procured the data from the  <a href=\"http://www.transtats.bts.gov/DL_SelectFields.asp?Table_ID=236&DB_Short_Name=On-Time\">US Bureau of Transportation Statistics</a> website. The dataset contains information of all flights in the US, ranging from 1 January, 2014 to 31st December 2015 (2 years).\n",
    "\n",
    "\n",
    "The dataset consists of 11,627,656 rows, with 28 attributes"
   ]
  },
  {
   "cell_type": "markdown",
   "metadata": {},
   "source": [
    "Attribute |  Field / Description \n",
    "--- | --- \n",
    "Year | Year of flight\n",
    "Month | Month of flight  \n",
    "DayofMonth | Day of month  \n",
    "DayOfWeek | Day of the week (in number)\n",
    "FlightDate |  Date on which the flight took place\n",
    "UniqueCarrier | Unique Carrier Code. When the same code has been used by multiple carriers, a numeric suffix is used for earlier users, for example, PA, PA(1), PA(2). \n",
    "Carrier | Code assigned by IATA and commonly used to identify a carrier. As the same code may have been assigned to different carriers over time, the code is not always unique. \n",
    "OriginAirportID | Origin Airport, Airport ID. An identification number assigned by US DOT to identify a unique airport.\n",
    "Origin | Origin Airport\n",
    "OriginState | Origin Airport, State Code\n",
    "DestAirportID | Destination Airport, Airport ID. An identification number assigned by US DOT to identify a unique airport\n",
    "Destination | Destination Airport\n",
    "DestState | Destination Airport, State Code\n",
    "DepTime | Actual Departure Time (local time: hhmm)\n",
    "DepDelay | Difference in minutes between scheduled and actual departure time. Early departures show negative numbers.\n",
    "ArrTime | Actual Arrival Time (local time: hhmm)\n",
    "Cancelled | Cancelled Flight Indicator (1=Yes)\n",
    "Distance | Distance between airports (miles)\n",
    "CancellationCode | Specifies The Reason For Cancellation\n",
    "CarrierDelay | Carrier Delay, in Minutes Weather Delay, in Minutes\n",
    "WeatherDelay | Weather DelayLate Aircraft Delay, in Minutes, in Minutes\n",
    "NASDelay | National Air System Delay, in Minutes\t\t\n",
    "SecurityDelay | Security Delay, in Minutes\n",
    "LateAircraftDelay | Late Aircraft Delay, in Minutes\n",
    "FirstDepTime | First Gate Departure Time at Origin Airport\n",
    "TotalAddGTime | Total Ground Time Away from Gate for Gate Return or Cancelled Flight\n",
    "LongestAddGTime | Longest Time Away from Gate for Gate Return or Cancelled Flight"
   ]
  },
  {
   "cell_type": "markdown",
   "metadata": {},
   "source": [
    "The files were available in the form of individual CSV files for each month, thus adding up to 24 CSV files for 2 years of data."
   ]
  },
  {
   "cell_type": "markdown",
   "metadata": {},
   "source": [
    "### Data processing"
   ]
  },
  {
   "cell_type": "markdown",
   "metadata": {},
   "source": [
    "The data we procured had inconsistencies, and therefore, we had to process the data prior to performing any kind of analysis on it. Dealing with close to 11.6 million rows, it was necessary that we use a tool that handle such a huge volume of data. \n",
    "\n",
    "\n",
    "The data was too large for our regular 8GB computer to handle. Therefore, we uploaded the individual CSV files to an Amazon S# bucket on AWS. We decided to use Apache Hive to process our data, and hence, we  created a Hadoop cluster on AWS Elastic MapReduce, with the following configuration:"
   ]
  },
  {
   "cell_type": "markdown",
   "metadata": {},
   "source": [
    "```\n",
    "Vendor: Amazon\n",
    "Release: emr-5.0.3\n",
    "\n",
    "Software:\n",
    "Hadoop 2.7.3\n",
    "Hive 2.1.0\n",
    "\n",
    "Hardware: 1 vCPU, 3.75GB RAM, 410GB HDD\n",
    "```"
   ]
  },
  {
   "cell_type": "markdown",
   "metadata": {},
   "source": [
    "We used Apache Hive to process the data, and performed cleaning steps such as eliminating quotation marks and creating derived columns, based on our necessities for anaysis."
   ]
  },
  {
   "cell_type": "markdown",
   "metadata": {},
   "source": [
    "### Setting up EC2 instance on AWS"
   ]
  },
  {
   "cell_type": "markdown",
   "metadata": {},
   "source": [
    "Once we had the data hosted on the S3 bucket, we created an Amazon EC2 (Elastic Compute Cloud) instance, with a `t2.2xlarge` configuration, which would help us in processing and analyzing the large dataset we had. Additionally, we installed RStudio Server and RShiny on the instance to enable analysis on our dataset. The follwing configuration was used to facilitate this:"
   ]
  },
  {
   "cell_type": "markdown",
   "metadata": {},
   "source": [
    "```bash\n",
    "#!/bin/bash\n",
    "#install R\n",
    "yum install -y R\n",
    "#install RStudio-Server\n",
    "\n",
    "wget https://download2.rstudio.org/rstudio-server-rhel-0.99.465-x86_64.rpm\n",
    "yum install -y --nogpgcheck rstudio-server-rhel-0.99.465-x86_64.rpm\n",
    "\n",
    "#install shiny and shiny-server\n",
    "R -e \"install.packages('shiny', repos='http://cran.rstudio.com/')\"\n",
    "wget https://s3.amazonaws.com/rstudio-server/rstudio-server-rhel5-1.0.44-x86_64.rpm\n",
    "yum install --nogpgcheck rstudio-server-rhel5-1.0.44-x86_64.rpm\n",
    "\n",
    "#add user(s)\n",
    "useradd surag0107\n",
    "echo surag0107:password | chpasswd\n",
    "```"
   ]
  },
  {
   "cell_type": "markdown",
   "metadata": {},
   "source": [
    "Since the OS for the instance was CentOS 5, installation of certain packages in R was required to be run on the unix CLI. Firstly, we required the `OpenSSL` package to be installed. For this, we SSH into the EC2 instance using Putty. We then install `OpenSSL` and `devtools`, with the below command:"
   ]
  },
  {
   "cell_type": "markdown",
   "metadata": {},
   "source": [
    "```bash\n",
    "$ sudo yum install curl-devel\n",
    "```"
   ]
  },
  {
   "cell_type": "markdown",
   "metadata": {},
   "source": [
    "We then log onto the RStudio Server using the Public DNS"
   ]
  },
  {
   "cell_type": "markdown",
   "metadata": {},
   "source": [
    "### Initializing Spark and H2O on RStudio Server "
   ]
  },
  {
   "cell_type": "markdown",
   "metadata": {},
   "source": [
    "For our analysis, we decided to use Spark, in conjunction with H2O and mlLib. We do this by initialzing a spark connection in R, as shown below:"
   ]
  },
  {
   "cell_type": "markdown",
   "metadata": {},
   "source": [
    "```r\n",
    "library(sparklyr)\n",
    "library(h2o)\n",
    "\n",
    "spark_install(version = \"2.0.0\")\n",
    "conf <- spark_config()\n",
    "conf[[\"spark.sql.warehouse.dir\"]] <- \"/dev/shm\"\n",
    "\n",
    "options(rsparkling.sparklingwater.version = '1.6.8')\n",
    "sc <- spark_connect(master = \"local\",spark_home = Sys.getenv(\"SPARK_HOME\"), config = conf)\n",
    "\n",
    "##Initialize H2O\n",
    "h2o.init(nthreads = -1)\n",
    "```"
   ]
  },
  {
   "cell_type": "markdown",
   "metadata": {},
   "source": [
    "## Goal"
   ]
  },
  {
   "cell_type": "markdown",
   "metadata": {},
   "source": [
    "The goal of our analysis was two-fold:\n",
    "<ul>\n",
    "i. Predict whether a flight's departure would get delayed by 15 minutes or more for a given instance (Classification)    \n",
    "ii. Predict the delay in departure of a flight in minutes (Regression)\n",
    "</ul>"
   ]
  },
  {
   "cell_type": "markdown",
   "metadata": {},
   "source": [
    "For this, the attributes present in the original dataset were used. The dataset was split into training and test instances for the purpose of model training and evaluation.\n",
    "\n",
    "\n",
    "Basic data aggregation and processing were done using `sparklyr`. For more information on how to use `sparklyr`, refer to this <a href = \"http://spark.rstudio.com/\">link</a>"
   ]
  },
  {
   "cell_type": "markdown",
   "metadata": {},
   "source": [
    "### Introduction to H2O"
   ]
  },
  {
   "cell_type": "markdown",
   "metadata": {},
   "source": [
    "H2O by Oxdata brings better algorithms to big data. H2O is an open source math & machine learning platform for speed and scale. H2O enables enterprises to use all of their data (instead of sampling) in real-time for better predictions. \n",
    "\n",
    "Companies such as Capital One, TransAmerica, Hospital Corporation of America, Progressive Inc. use H2O for predictive analytics and building recommendation platforms using Big data\n",
    "\n",
    "For our use case, we chose H2O as our primary platform since it enables us to use and compare various predictive algorithms, to ensure high accuracy in our final model. It also provides us with the flexibility of using R, a tool that most data scientists are familiar with. At the same time, it has more APIs which we can connect to such as R, Python and JSON. In addition to those, we’ve noticed that H2O can easily connect to Tableau and RShiny. We ultimately built a visualization using RShiny, that enables the user to interactively visualize and garner insights as necessary. "
   ]
  },
  {
   "cell_type": "markdown",
   "metadata": {},
   "source": [
    "## Methodology"
   ]
  },
  {
   "cell_type": "markdown",
   "metadata": {},
   "source": [
    "Our methodology can be defined with the following steps:\n",
    "<ol>\n",
    "<li>Upload data onto AWS S3 bucket</li>\n",
    "<li>Use Hive to process data an create derived variables</li>\n",
    "<li>Using Amazon EC2, create an instance that enables connectivity to RStudio Server</li>\n",
    "<li>Use SparkR and H2O to run predictive modeling algorithms on the data</li>\n",
    "<li>Visualize results using RShiny</li>\n",
    "</ol>"
   ]
  },
  {
   "cell_type": "markdown",
   "metadata": {},
   "source": [
    "<img src = \"project-methodology.png\">"
   ]
  },
  {
   "cell_type": "markdown",
   "metadata": {},
   "source": [
    "## Results"
   ]
  },
  {
   "cell_type": "markdown",
   "metadata": {},
   "source": [
    "### Exploratory Analysis"
   ]
  },
  {
   "cell_type": "markdown",
   "metadata": {},
   "source": [
    "After performing basic exploratory analysis on our data, we wanted to explore the various factors that could affect how much a flight would get delayed. With the attributes that we had, we decided to look at how the average delay varies across various factors such as month, airport, airline carrier, hour of day etc."
   ]
  },
  {
   "cell_type": "markdown",
   "metadata": {},
   "source": [
    "### Average delay by month"
   ]
  },
  {
   "cell_type": "markdown",
   "metadata": {},
   "source": [
    "<img src = \"byMonth.png\">"
   ]
  },
  {
   "cell_type": "markdown",
   "metadata": {},
   "source": [
    "### Average delay by airport (top 10)"
   ]
  },
  {
   "cell_type": "markdown",
   "metadata": {},
   "source": [
    "<img src = \"byAirport.png\">"
   ]
  },
  {
   "cell_type": "markdown",
   "metadata": {},
   "source": [
    "### Average delay by carrier (top 10)"
   ]
  },
  {
   "cell_type": "markdown",
   "metadata": {},
   "source": [
    "<img src = \"byCarrier.png\">"
   ]
  },
  {
   "cell_type": "markdown",
   "metadata": {},
   "source": [
    "### Average delay by hour of day "
   ]
  },
  {
   "cell_type": "markdown",
   "metadata": {},
   "source": [
    "<img src = \"byHour.png\">"
   ]
  },
  {
   "cell_type": "markdown",
   "metadata": {},
   "source": [
    "From the above graphs, we observe the following:\n",
    "<ul>\n",
    "<li>June, July and December have the highest average delays</li>\n",
    "<li>O'Hare, Newark and Chicago mid-west airports have the highest average delays</li>\n",
    "<li>Spirit Airlines, Frontier airlines and United Airlines have the highest average delay among airlines</li>\n",
    "<li>Delays are greater between 10 AM and 2 PM, possibly because of poor visibility</li>\n",
    "</ul>"
   ]
  },
  {
   "cell_type": "markdown",
   "metadata": {},
   "source": [
    "We also decided to explore states that have the highest average delay in their airports. A heat map as shown below gives us a general overview of this:"
   ]
  },
  {
   "cell_type": "markdown",
   "metadata": {},
   "source": [
    "<img src = \"byState.png\">"
   ]
  },
  {
   "cell_type": "markdown",
   "metadata": {},
   "source": [
    "### Modeling "
   ]
  },
  {
   "cell_type": "markdown",
   "metadata": {},
   "source": [
    "We used various predictive modeling techniques using H2O to see which of the techniques gives us the best accuracy. Our target variable was a binary variable indicating whether a flight was delayed by 15 minutes or greater or not. Below is an example of the neural network algorithm on our dataset using H2O:"
   ]
  },
  {
   "cell_type": "markdown",
   "metadata": {},
   "source": [
    "```r\n",
    "fit_nn <- h2o.deeplearning(\n",
    "  x = c(\"month\", \n",
    "        \"dayofweek\",\n",
    "        \"carrier\",\n",
    "        \"distance\",\n",
    "        \"traffic\",\n",
    "        \"dephour_bucket\"),\n",
    "  y = \"delay_flag\", \n",
    "  training_frame = training,\n",
    "  validation_frame = test\n",
    ")\n",
    "```"
   ]
  },
  {
   "cell_type": "markdown",
   "metadata": {},
   "source": [
    "Below, we summarize the results of each of the models by comparing their accuracies:"
   ]
  },
  {
   "cell_type": "markdown",
   "metadata": {},
   "source": [
    "Model | Accuracy\n",
    "--- | --- \n",
    "Logistic Regression | 56 %\n",
    "Naïve Bayes | 55 %\n",
    "Random Forest | 66 %\n",
    "Neural Networks | 74 %\n",
    "Gradient Boost | 60 %"
   ]
  },
  {
   "cell_type": "markdown",
   "metadata": {},
   "source": [
    "## Shiny Dashboard"
   ]
  },
  {
   "cell_type": "markdown",
   "metadata": {},
   "source": [
    "In order to visualize the results in an intuitive manner, we developed a dashboard using RShiny. The dashboard is dynamically connected to the R Server, which preserves the spark and H2O connectivity. The dashboard enables the user to visualize basic plots, and also a flight route plot to understand which carriers perform bad with respect to delays on a prticular route."
   ]
  },
  {
   "cell_type": "markdown",
   "metadata": {},
   "source": [
    "<img src = \"shiny1.png\">"
   ]
  },
  {
   "cell_type": "markdown",
   "metadata": {},
   "source": [
    "<img src = \"shiny2.png\">"
   ]
  },
  {
   "cell_type": "markdown",
   "metadata": {},
   "source": [
    "## Next Steps"
   ]
  },
  {
   "cell_type": "markdown",
   "metadata": {},
   "source": [
    "<ul>\n",
    "<li>Fine tune model and extract more attributes for more predictive accuracy</li>\n",
    "<li>Cluster airports that are similar to identify delay patterns within airport segments </li>\n",
    "<li>Stream real time flight data to provide dynamic and accurate predictions</li>\n",
    "</ul>"
   ]
  },
  {
   "cell_type": "markdown",
   "metadata": {},
   "source": [
    "## Conclusion"
   ]
  },
  {
   "cell_type": "markdown",
   "metadata": {},
   "source": [
    "With the volume of data growing exponentially over time, it is imperative that corporations switch to frameworks and platorms that are scalable. With the advent and growth of Hadoop and Spark, and machine learning platforms such as MLLib and H2O, it is essential that companies embrace these technologies openly to garner insights from huge volumes of data and institutionalize data driven decision making."
   ]
  },
  {
   "cell_type": "markdown",
   "metadata": {},
   "source": [
    "## Appendix"
   ]
  },
  {
   "cell_type": "markdown",
   "metadata": {},
   "source": [
    "### Hive code to process data"
   ]
  },
  {
   "cell_type": "markdown",
   "metadata": {},
   "source": [
    "```sql\n",
    "DROP TABLE IF EXISTS airdata;\n",
    "CREATE EXTERNAL TABLE airdata (\n",
    "Year STRING,\n",
    "Month STRING,\n",
    "DayofMonth STRING,\n",
    "DayOfWeek STRING,\n",
    "FlightDate STRING,\n",
    "UniqueCarrier STRING,\n",
    "Carrier STRING,\n",
    "OriginAirportID STRING,\n",
    "Origin STRING,\n",
    "OriginState STRING,\n",
    "DestAirportID STRING,\n",
    "Dest STRING,\n",
    "DestState STRING,\n",
    "DepTime STRING,\n",
    "Depdelay STRING,\n",
    "ArrTime STRING,\n",
    "ArrDelay STRING,\n",
    "Cancelled STRING,\n",
    "CancellationCode STRING,\n",
    "Distance STRING,\n",
    "CarrierDelay STRING,\n",
    "WeatherDelay STRING,\n",
    "NASDelay STRING,\n",
    "SecurityDelay STRING,\n",
    "LateAircraftDelay STRING,\n",
    "FirstDepTime STRING,\n",
    "TotalAddGTime STRING,\n",
    "LongestAddGTime STRING)\n",
    "ROW FORMAT DELIMITED\n",
    "FIELDS TERMINATED BY ','\n",
    "LOCATION 's3://projectairline/neworgdata';\n",
    "\n",
    "-- replace quotes and redundancy\n",
    "drop table if exists cleandata;\n",
    "create table cleandata as \n",
    "select \n",
    "regexp_replace(Year, '\\\\\"', '') as Year,\n",
    "regexp_replace(Month, '\\\\\"', '') as Month,\n",
    "regexp_replace(DayofMonth, '\\\\\"', '') as DayofMonth,\n",
    "regexp_replace(DayOfWeek, '\\\\\"', '') as DayOfWeek,\n",
    "regexp_replace(FlightDate, '\\\\\"', '') as FlightDate,\n",
    "regexp_replace(UniqueCarrier, '\\\\\"', '') as UniqueCarrier,\n",
    "regexp_replace(Carrier, '\\\\\"', '') as Carrier,\n",
    "regexp_replace(OriginAirportID, '\\\\\"', '') as OriginAirportID,\n",
    "regexp_replace(Origin, '\\\\\"', '') as Origin,\n",
    "regexp_replace(OriginState, '\\\\\"', '') as OriginState,\n",
    "regexp_replace(DestAirportID, '\\\\\"', '') as DestAirportID,\n",
    "regexp_replace(Dest, '\\\\\"', '') as Dest,\n",
    "regexp_replace(DestState, '\\\\\"', '') as DestState,\n",
    "regexp_replace(DepTime, '\\\\\"', '') as DepTime,\n",
    "regexp_replace(Depdelay, '\\\\\"', '') as Depdelay,\n",
    "regexp_replace(ArrTime, '\\\\\"', '') as ArrTime,\n",
    "regexp_replace(ArrDelay, '\\\\\"', '') as ArrDelay,\n",
    "regexp_replace(Cancelled, '\\\\\"', '') as Cancelled,\n",
    "regexp_replace(CancellationCode, '\\\\\"', '') as CancellationCode,\n",
    "regexp_replace(Distance, '\\\\\"', '') as Distance,\n",
    "regexp_replace(CarrierDelay, '\\\\\"', '') as CarrierDelay,\n",
    "regexp_replace(WeatherDelay, '\\\\\"', '') as WeatherDelay,\n",
    "regexp_replace(NASDelay, '\\\\\"', '') as NASDelay,\n",
    "regexp_replace(SecurityDelay, '\\\\\"', '') as SecurityDelay,\n",
    "regexp_replace(LateAircraftDelay, '\\\\\"', '') as LateAircraftDelay,\n",
    "regexp_replace(FirstDepTime, '\\\\\"', '') as FirstDepTime,\n",
    "regexp_replace(TotalAddGTime, '\\\\\"', '') as TotalAddGTime,\n",
    "regexp_replace(LongestAddGTime, '\\\\\"', '') as LongestAddGTime\n",
    "from airdata;\n",
    "\n",
    "-- remove column name row\n",
    "drop table if exists cleandata1;\n",
    "create table cleandata1 as\n",
    "select * from cleandata\n",
    "where lower(year) not like \"%year%\";\n",
    "\n",
    "\n",
    "-- generate airport traffic column\n",
    "drop table if exists cleandata2;\n",
    "create table cleandata2 as \n",
    "select *, substring(deptime, 1,2) as dephour, substring(arrtime, 2,2) as arrhour from cleandata1;\n",
    "\n",
    "-- group by\n",
    "drop table if exists dephourtable;\n",
    "create table dephourtable as\n",
    "select year, month, dayofmonth, dephour, originairportid, count(*) as deptraffic\n",
    "from cleandata2\n",
    "group by year, month, dayofmonth, dephour, originairportid;\n",
    "\n",
    "-- group by2\n",
    "drop table if exists arrhourtable;\n",
    "create table arrhourtable as\n",
    "select year, month, dayofmonth, arrhour, destairportid, count(*) as arrtraffic\n",
    "from cleandata2\n",
    "group by year, month, dayofmonth, arrhour, destairportid;\n",
    "\n",
    "-- merge groupby\n",
    "drop table if exists trafficdata;\n",
    "create table trafficdata as\n",
    "select d.year, d.month, d.dayofmonth, d.dephour, d.originairportid,\n",
    "if(d.deptraffic is null,0,d.deptraffic)+if(a.arrtraffic is null,0,a.arrtraffic) as traffic\n",
    "from dephourtable d full outer join arrhourtable a\n",
    "on (d.year = a.year)\n",
    "and (d.month = a.month)\n",
    "and (d.dayofmonth = a.dayofmonth)\n",
    "and (d.dephour = a.arrhour)\n",
    "and (d.originairportid = a.destairportid);\n",
    "\n",
    "\n",
    "-- merge\n",
    "drop table if exists mergetable;\n",
    "create table mergetable as\n",
    "SELECT c.Year,\n",
    "c.Month,\n",
    "c.DayofMonth,\n",
    "c.DayOfWeek,\n",
    "c.FlightDate,\n",
    "c.UniqueCarrier,\n",
    "c.Carrier,\n",
    "c.OriginAirportID,\n",
    "c.Origin,\n",
    "c.OriginState,\n",
    "c.DestAirportID,\n",
    "c.Dest,\n",
    "c.DestState,\n",
    "c.DepTime,\n",
    "c.Depdelay,\n",
    "c.ArrTime,\n",
    "c.ArrDelay,\n",
    "c.Cancelled,\n",
    "c.CancellationCode,\n",
    "c.Distance,\n",
    "c.CarrierDelay,\n",
    "c.WeatherDelay,\n",
    "c.NASDelay,\n",
    "c.SecurityDelay,\n",
    "c.LateAircraftDelay,\n",
    "c.FirstDepTime,\n",
    "c.TotalAddGTime,\n",
    "c.LongestAddGTime,\n",
    "t.traffic,\n",
    "t.dephour\n",
    "FROM cleandata2 c join trafficdata t\n",
    "where (c.year = t.year)\n",
    "and (c.month = t.month)\n",
    "and (c.dayofmonth = t.dayofmonth)\n",
    "and (c.dephour = t.dephour)\n",
    "and (c.originairportid = t.originairportid);\n",
    "\n",
    "-- convert data type\n",
    "drop table if exists finaldata;\n",
    "create table finaldata \n",
    "row format delimited fields terminated by ',' as\n",
    "SELECT Year,\n",
    "Month,\n",
    "DayofMonth,\n",
    "DayOfWeek,\n",
    "FlightDate,\n",
    "UniqueCarrier,\n",
    "Carrier,\n",
    "OriginAirportID,\n",
    "Origin,\n",
    "OriginState,\n",
    "DestAirportID,\n",
    "Dest,\n",
    "DestState,\n",
    "DepTime,\n",
    "cast(Depdelay as bigint),\n",
    "ArrTime,\n",
    "cast(Arrtime as bigint)\n",
    "Cancelled,\n",
    "cast(Distance as bigint),\n",
    "CancellationCode,\n",
    "CarrierDelay,\n",
    "WeatherDelay,\n",
    "NASDelay,\n",
    "SecurityDelay,\n",
    "LateAircraftDelay,\n",
    "FirstDepTime,\n",
    "TotalAddGTime,\n",
    "LongestAddGTime,\n",
    "traffic,\n",
    "dephour\n",
    "from mergetable;\n",
    "\n",
    "-- add city\n",
    "DROP TABLE IF EXISTS city;\n",
    "CREATE EXTERNAL TABLE city\n",
    "(OriginAirportID STRING,\n",
    "OriginCity STRING,\n",
    "OriginState STRING,\n",
    "DestAirportID STRING,\n",
    "DestCity STRING,\n",
    "DestState STRING)\n",
    "ROW FORMAT DELIMITED\n",
    "FIELDS TERMINATED BY ','\n",
    "LOCATION 's3://projectairline/airportcity';\n",
    "\n",
    "drop table if exists cleancity;\n",
    "create table cleancity as \n",
    "select \n",
    "regexp_replace(OriginAirportID, '\\\\\"', '') as OriginAirportID,\n",
    "regexp_replace(OriginCity, '\\\\\"', '') as OriginCity,\n",
    "regexp_replace(OriginState, '\\\\\"', '') as OriginState,\n",
    "regexp_replace(DestAirportID, '\\\\\"', '') as DestAirportID,\n",
    "regexp_replace(DestCity, '\\\\\"', '') as DestCity,\n",
    "regexp_replace(DestState, '\\\\\"', '') as DestState\n",
    "from city;\n",
    "\n",
    "DROP TABLE IF EXISTS origincity;\n",
    "CREATE TABLE origincity as\n",
    "select distinct OriginAirportID, OriginCity\n",
    "from cleancity;\n",
    "\n",
    "DROP TABLE IF EXISTS destcity;\n",
    "CREATE TABLE destcity as\n",
    "select distinct DestCity as destairportid, Deststate as destcity\n",
    "from cleancity;\n",
    "\n",
    "DROP TABLE IF EXISTS finaldata;\n",
    "CREATE EXTERNAL TABLE finaldata\n",
    "(year                    string,\n",
    "month                   string,\n",
    "dayofmonth              string,\n",
    "dayofweek               string,\n",
    "flightdate              string,\n",
    "uniquecarrier           string,\n",
    "carrier                 string,\n",
    "originairportid         string,\n",
    "origin                  string,\n",
    "originstate             string,\n",
    "destairportid           string,\n",
    "dest                    string,\n",
    "deststate               string,\n",
    "deptime                 string,\n",
    "depdelay                bigint,\n",
    "arrtime                 string,\n",
    "cancelled               bigint,\n",
    "distance                bigint,\n",
    "cancellationcode        string,\n",
    "carrierdelay            string,\n",
    "weatherdelay            string,\n",
    "nasdelay                string,\n",
    "securitydelay           string,\n",
    "lateaircraftdelay       string,\n",
    "firstdeptime            string,\n",
    "totaladdgtime           string,\n",
    "longestaddgtime         string,\n",
    "traffic                 bigint,\n",
    "dephour                 string)\n",
    "ROW FORMAT DELIMITED\n",
    "FIELDS TERMINATED BY ','\n",
    "LOCATION 's3://projectairline/newoutput';\n",
    "\n",
    "DROP TABLE IF EXISTS finalcity;\n",
    "CREATE TABLE finalcity AS\n",
    "SELECT f.year,\n",
    "f.month,\n",
    "f.dayofmonth,\n",
    "f.dayofweek,\n",
    "f.flightdate,\n",
    "f.uniquecarrier,\n",
    "f.carrier,\n",
    "f.originairportid,\n",
    "f.origin,\n",
    "f.originstate,\n",
    "f.destairportid,\n",
    "f.dest,\n",
    "f.deststate,\n",
    "f.deptime,\n",
    "f.depdelay,\n",
    "f.arrtime,\n",
    "f.cancelled,\n",
    "f.distance,\n",
    "f.cancellationcode,\n",
    "f.carrierdelay,\n",
    "f.weatherdelay,\n",
    "f.nasdelay,\n",
    "f.securitydelay,\n",
    "f.lateaircraftdelay,\n",
    "f.firstdeptime,\n",
    "f.totaladdgtime,\n",
    "f.longestaddgtime,\n",
    "f.traffic,\n",
    "f.dephour,\n",
    "o.OriginCity\n",
    "FROM finaldata f JOIN origincity o\n",
    "where o.originairportid = f.originairportid;\n",
    "\n",
    "DROP TABLE IF EXISTS finalcity2;\n",
    "CREATE TABLE finalcity2\n",
    "row format delimited fields terminated by ',' as\n",
    "SELECT f.year,\n",
    "f.month,\n",
    "f.dayofmonth,\n",
    "f.dayofweek,\n",
    "f.flightdate,\n",
    "f.uniquecarrier,\n",
    "f.carrier,\n",
    "f.originairportid,\n",
    "f.origin,\n",
    "f.originstate,\n",
    "f.destairportid,\n",
    "f.dest,\n",
    "f.deststate,\n",
    "f.deptime,\n",
    "f.depdelay,\n",
    "f.arrtime,\n",
    "f.cancelled,\n",
    "f.distance,\n",
    "f.cancellationcode,\n",
    "f.carrierdelay,\n",
    "f.weatherdelay,\n",
    "f.nasdelay,\n",
    "f.securitydelay,\n",
    "f.lateaircraftdelay,\n",
    "f.firstdeptime,\n",
    "f.totaladdgtime,\n",
    "f.longestaddgtime,\n",
    "f.traffic,\n",
    "f.dephour,\n",
    "f.OriginCity,\n",
    "d.destcity\n",
    "FROM finalcity f JOIN destcity d\n",
    "where d.destairportid = f.destairportid;\n",
    "```"
   ]
  },
  {
   "cell_type": "markdown",
   "metadata": {},
   "source": [
    "### RShiny App for exploratory analysis (including spark connection and H2O initiation) "
   ]
  },
  {
   "cell_type": "markdown",
   "metadata": {},
   "source": [
    "```r\n",
    "library(shiny)\n",
    "library(h2o)\n",
    "library(sparklyr)\n",
    "library(rsparkling)\n",
    "library(dplyr)\n",
    "library(data.table)\n",
    "library(dtplyr)\n",
    "library(plotly)\n",
    "library(shinythemes)\n",
    "library(leaflet)\n",
    "library(geosphere)\n",
    "\n",
    "h2o.init(nthreads = -1)\n",
    "spark_install(version = \"2.0.0\")\n",
    "\n",
    "\n",
    "conf <- spark_config()\n",
    "conf[[\"spark.sql.warehouse.dir\"]] <- \"/dev/shm\"\n",
    "\n",
    "options(rsparkling.sparklingwater.version = '1.6.8')\n",
    "sc <- spark_connect(master = \"local\",\n",
    "                    spark_home = Sys.getenv(\"SPARK_HOME\"), \n",
    "                    config = conf)\n",
    "\n",
    "airline_data <- fread(\"../finalairline.csv\", header = F, stringsAsFactors = F,\n",
    "                      col.names = c('year','month','dayofmonth','dayofweek','flightdate','uniquecarrier','carrier','originairportid','origin','originstate','destairportid','dest','deststate','deptime','depdelay','arrtime','cancelled','distance','cancellationcode','carrierdelay','weatherdelay','nasdelay','securitydelay','lateaircraftdelay','firstdeptime','totaladdgtime','longestaddgtime','traffic','dephour'))\n",
    "\n",
    "air <- read.csv('https://raw.githubusercontent.com/plotly/datasets/master/2011_february_us_airport_traffic.csv')\n",
    "\n",
    "\n",
    "times <- substring(paste0(\"00\",0:23),nchar(paste0(\"00\",0:23)) - 1, nchar(paste0(\"00\",0:23)))\n",
    "\n",
    "FullPage <- navbarPage(\n",
    "  title = \"Airline Delay dashboard\",\n",
    "  tabPanel(\n",
    "    strong(\"Basic Comparisons\"),\n",
    "    sidebarLayout(\n",
    "      position = \"left\",\n",
    "      sidebarPanel(\n",
    "        radioButtons(\"View\",\n",
    "                     label = \"Select View\",\n",
    "                     choices = list('By Month',\n",
    "                                    'By Airport',\n",
    "                                    'By Airline',\n",
    "                                    'By time of day'\n",
    "                     )\n",
    "        )\n",
    "        #,actionButton(\"action1\", label = \"Run Model\")\n",
    "      ),\n",
    "      mainPanel(\n",
    "        plotlyOutput(\"model\")\n",
    "      )\n",
    "    )\n",
    "  ),\n",
    "  tabPanel(\n",
    "    strong(\"Airline Routes\"),\n",
    "    sidebarLayout(\n",
    "      position = 'left',\n",
    "      sidebarPanel(\n",
    "        selectInput('origin', \n",
    "                    label = 'Origin', \n",
    "                    choices = unique(air$iata), \n",
    "                    selected = 'LAX'),\n",
    "        \n",
    "        selectInput('dest', \n",
    "                    label = 'Destination',\n",
    "                    choices = unique(air$iata),\n",
    "                    selected = 'JFK')#,\n",
    "        \n",
    "              ),\n",
    "      mainPanel(leafletOutput('airline_perf',width = 500,height = 300),\n",
    "                plotlyOutput('airplot',width = 400,height = 200))\n",
    "    )\n",
    "  )\n",
    ")\n",
    "\n",
    "\n",
    "# Define UI for application that draws a histogram\n",
    "ui <- shinyUI(fluidPage(#theme = \"darkly.css\",\n",
    "  #theme = shinytheme(\"spacelab\"),\n",
    "  title = \"Carlson Wagonlit Forecasting Tool\",\n",
    "  FullPage))\n",
    "\n",
    "server <- shinyServer(\n",
    "  function(input, output, session) {\n",
    "    \n",
    "    spark_model <- reactive({\n",
    "      \n",
    "      if(input$View == 'By Month') {\n",
    "        \n",
    "        airlinedata_grouped <- airline_data %>%\n",
    "          mutate(act_delay = ifelse(as.numeric(depdelay) > 0,\n",
    "                                    as.numeric(depdelay),0)) %>%\n",
    "          group_by(month) %>%\n",
    "          summarize(avg_delay = mean(act_delay, na.rm = T)) %>%\n",
    "          arrange(month) %>%\n",
    "          mutate(month_name = as.factor(month.abb[month]))\n",
    "        \n",
    "        #levels(airlinedata_grouped$month_name) = month.abb[1:12]\n",
    "        \n",
    "        p <- plot_ly(airlinedata_grouped,\n",
    "                     x = ~month,\n",
    "                     y = ~avg_delay,\n",
    "                     type = 'bar') %>%\n",
    "          layout(title = 'Avg. delay by month',\n",
    "                 xaxis = list(title = 'Month', dtick = 1),\n",
    "                 yaxis = list(title = 'Avg. Delay'))\n",
    "        \n",
    "      } else if(input$View == 'By Airport') {\n",
    "        \n",
    "        airlinedata_grouped <- airline_data %>%\n",
    "          mutate(act_delay = ifelse(as.numeric(depdelay) > 0,\n",
    "                                    as.numeric(depdelay),0)) %>%\n",
    "          group_by(origin) %>%\n",
    "          summarize(avg_delay = mean(act_delay, na.rm = T),\n",
    "                    numrows = n()) %>%\n",
    "          filter(numrows > 100000) %>%\n",
    "          arrange(-avg_delay)\n",
    "        \n",
    "        airlinedata_grouped <- head(airlinedata_grouped,10)\n",
    "        airports <- airlinedata_grouped$origin\n",
    "        airlinedata_grouped$origin <- factor(airlinedata_grouped$origin, levels = unique(airlinedata_grouped$origin)[order(airlinedata_grouped$avg_delay, decreasing = TRUE)])\n",
    "        \n",
    "        levels(airlinedata_grouped$origin) <- airports\n",
    "        \n",
    "        p <- plot_ly(airlinedata_grouped,\n",
    "                     x = ~origin,\n",
    "                     y = ~avg_delay,\n",
    "                     type = 'bar') %>%\n",
    "          layout(title = 'Avg. delay by Airport',\n",
    "                 xaxis = list(title = 'Airport'),\n",
    "                 yaxis = list(title = 'Average Delay'))\n",
    "        \n",
    "      } else if(input$View == 'By Airline') {\n",
    "        \n",
    "        airlinedata_grouped <- airline_data %>%\n",
    "          mutate(act_delay = ifelse(as.numeric(depdelay) > 0,\n",
    "                                    as.numeric(depdelay),0)) %>%\n",
    "          group_by(carrier) %>%\n",
    "          summarize(avg_delay = mean(act_delay, na.rm = T),\n",
    "                    numrows = n()) %>%\n",
    "          filter(numrows > 1000) %>%\n",
    "          arrange(-avg_delay)\n",
    "        \n",
    "        airlinedata_grouped <- head(airlinedata_grouped,10)\n",
    "        airports <- airlinedata_grouped$carrier\n",
    "        airlinedata_grouped$carrier <- factor(airlinedata_grouped$carrier, levels = unique(airlinedata_grouped$carrier)[order(airlinedata_grouped$avg_delay, decreasing = TRUE)])\n",
    "        \n",
    "        #levels(airlinedata_grouped$carrier) <- carriers\n",
    "        \n",
    "        p <- plot_ly(airlinedata_grouped,\n",
    "                     x = ~carrier,\n",
    "                     y = ~avg_delay,\n",
    "                     type = 'bar') %>%\n",
    "          layout(title = 'Avg. delay by Airline',\n",
    "                 xaxis = list(title = 'Airline Carrier'),\n",
    "                 yaxis = list(title = 'Average Delay'))\n",
    "        \n",
    "      } else {\n",
    "        \n",
    "        airlinedata_grouped <- airline_data %>%\n",
    "          mutate(act_delay = ifelse(as.numeric(depdelay) > 0,\n",
    "                                    as.numeric(depdelay),0),\n",
    "                 dephour = ifelse(as.integer(dephour) == 24,0,as.integer(dephour))) %>%\n",
    "          group_by(dephour) %>%\n",
    "          summarize(avg_delay = mean(act_delay, na.rm = T)) %>%\n",
    "          arrange(dephour)\n",
    "        \n",
    "        airlinedata_grouped <- airlinedata_grouped[complete.cases(airlinedata_grouped),]\n",
    "\n",
    "        \n",
    "        p <- plot_ly(airlinedata_grouped,\n",
    "                     x = ~as.numeric(dephour),\n",
    "                     y = ~avg_delay,type = 'scatter', mode = 'lines') %>%\n",
    "          layout(title = 'Avg. delay by time of day',\n",
    "                 xaxis = list(title = 'Time of day', dtick = 1),\n",
    "                 yaxis = list(title = 'Average Delay')) \n",
    "        \n",
    "      }\n",
    "      \n",
    "      p\n",
    "      \n",
    "    })\n",
    "    \n",
    "    origin <- reactive({\n",
    "      req(input$origin)\n",
    "      filter(air, iata == input$origin)\n",
    "    })\n",
    "    \n",
    "    # Identify destination lat and log\n",
    "    dest <- reactive({\n",
    "      req(input$dest)\n",
    "      filter(air, iata == input$dest)\n",
    "    })\n",
    "    \n",
    "    by_airport <- reactive({\n",
    "      \n",
    "      airline_data_grouped <- airline_data %>%\n",
    "        filter(origin == input$origin &\n",
    "                 dest == input$dest) %>%\n",
    "        mutate(act_delay = ifelse(as.numeric(depdelay) > 0,\n",
    "                                  as.numeric(depdelay),0),\n",
    "               dephour = ifelse(as.integer(dephour) == 24,0,as.integer(dephour))) %>%\n",
    "        group_by(carrier) %>%\n",
    "        summarize(avg_delay = mean(act_delay, na.rm = T))\n",
    "      \n",
    "      p <- plot_ly(airline_data_grouped,\n",
    "                   x = ~carrier,\n",
    "                   y = ~avg_delay,\n",
    "                   type = 'bar') %>%\n",
    "        layout(title = 'Avg. delay by Carrier',\n",
    "               xaxis = list(title = 'Carrier'),\n",
    "               yaxis = list(title = 'Average Delay'))\n",
    "      \n",
    "      p\n",
    "      \n",
    "    })\n",
    "    \n",
    "    \n",
    "    \n",
    "    output$airplot <- renderPlotly({\n",
    "      \n",
    "      by_airport()\n",
    "      \n",
    "    })\n",
    "    \n",
    "    output$model <- renderPlotly({\n",
    "      \n",
    "      spark_model()\n",
    "      \n",
    "    })\n",
    "    \n",
    "    output$airline_perf <- renderLeaflet({\n",
    "      gcIntermediate(\n",
    "        select(origin(), long, lat),\n",
    "        select(dest(), long, lat),\n",
    "        n=100, addStartEnd=TRUE, sp=TRUE\n",
    "      ) %>%\n",
    "        leaflet() %>%\n",
    "        addProviderTiles(\"CartoDB.Positron\") %>%\n",
    "        addPolylines()\n",
    "      \n",
    "      \n",
    "    })\n",
    "    \n",
    "    \n",
    "    \n",
    "  })\n",
    "\n",
    "# Run the application \n",
    "shinyApp(ui = ui, server = server)\n",
    "```"
   ]
  },
  {
   "cell_type": "markdown",
   "metadata": {},
   "source": [
    "### Models using H2O"
   ]
  },
  {
   "cell_type": "markdown",
   "metadata": {},
   "source": [
    "```bash\n",
    "###Naive Bayes model\n",
    "partitions <- airline_data_final %>%\n",
    "  sdf_partition(training = 0.8, test = 0.2, seed = 42)\n",
    "\n",
    "training <- as.h2o(partitions$training)\n",
    "test <- as.h2o(partitions$test)\n",
    "\n",
    "training$month <- as.factor(training$month)\n",
    "training$dephour <- as.factor(training$dephour)\n",
    "training$dayofweek <- as.factor(training$dayofweek)\n",
    "training$carrier <- as.factor(training$carrier)\n",
    "training$dephour_bucket <- as.factor(training$dephour_bucket)\n",
    "\n",
    "trainx = c(\"month\",\"dayofweek\",\"carrier\", \"distance\", \"traffic\",\"dephour_bucket\")\n",
    "training$delay_flag = as.factor(training$delay_flag)\n",
    "\n",
    "\n",
    "nb_fit <- h2o.naiveBayes(trainx, 'delay_flag', training, laplace = 0)\n",
    "\n",
    "summary(nb_fit)\n",
    "\n",
    "##Logistic Regression\n",
    "logit_fit <- h2o.glm(\n",
    "  x = c(\"month\", \n",
    "        \"dayofweek\",\n",
    "        \"carrier\",\n",
    "        \"distance\",\n",
    "        \"traffic\",\n",
    "        \"dephour_bucket\"),\n",
    "  y = \"delay_flag\", \n",
    "  training_frame = training,\n",
    "  lambda_search = TRUE,\n",
    "  standardize = TRUE,\n",
    "  family = 'binomial',\n",
    ")\n",
    "\n",
    "##Neural Networks\n",
    "fit_nn <- h2o.deeplearning(\n",
    "  x = c(\"month\", \n",
    "        \"dayofweek\",\n",
    "        \"carrier\",\n",
    "        \"distance\",\n",
    "        \"traffic\",\n",
    "        \"dephour_bucket\"),\n",
    "  y = \"delay_flag\", \n",
    "  training_frame = training,\n",
    "  validation_frame = test\n",
    ")\n",
    "\n",
    "##Random forest\n",
    "fit_rf <- h2o.randomForest(\n",
    "\n",
    "    training_frame = training,\n",
    "    validation_frame = test,\n",
    "    x = trainx, \n",
    "    y = 'delay_flag', \n",
    "    model_id = \"rf_covType_v1\",\n",
    "    ntrees = 200,\n",
    "    stopping_rounds = 2,\n",
    "    # score_each_iteration = TRUE, \n",
    "    seed = 1000000\n",
    ")\n",
    "\n",
    "##Gradient boosted model\n",
    "fit_gbm <- h2o.gbm(\n",
    "\n",
    "    training_frame = training,\n",
    "    validation_frame = test,\n",
    "    x = trainx,\n",
    "    y = 'delay_flag',\n",
    "    model_id = \"gbm_covType1\",\n",
    "    seed = 2000000\n",
    ")\n",
    "```"
   ]
  },
  {
   "cell_type": "markdown",
   "metadata": {},
   "source": [
    "### Code for Heat map"
   ]
  },
  {
   "cell_type": "markdown",
   "metadata": {},
   "source": [
    "```r\n",
    "library(maps)\n",
    "library(ggplot2)\n",
    "\n",
    "mapstates <- map_data(\"state\")\n",
    "\n",
    "state_mapping=data.frame(state.abb,state.name)\n",
    "colnames(state_mapping)<-c(\"Code\",\"State\")\n",
    "state_mapping$State<-tolower(state_mapping$State)\n",
    "\n",
    "airdata_state<-airline_data%>%\n",
    "group_by(originstate)%>%\n",
    "summarise(avg_delay=mean(depdelay_mins))\n",
    "\n",
    "airdata_state$avg_delay<-round(airdata_state$avg_delay)\n",
    "airdata_state=merge(airdata_state,state_mapping,by.x='originstate',by.y='Code')\n",
    "#airdata_city$avg_delay<-round(airdata_city$avg_delay)\n",
    "latlonstates=mapstates[c(\"lat\",'long','group','region','order')]\n",
    "airdata_coord=merge(airdata_state,latlonstates,by.x='State',by.y='region',all.y=T)\n",
    "airdata_coord=airdata_coord[order(airdata_coord$order),]\n",
    "\n",
    "\n",
    "ggplot(airdata_coord, aes(x=long,y=lat,group=group))+\n",
    "  geom_polygon(aes(fill=avg_delay))+\n",
    "  geom_path()+ \n",
    "  ggtitle(\"Average departure delay across states in US\") +\n",
    "  scale_fill_gradientn(colours=rev(heat.colors(50)),na.value=\"grey90\")+\n",
    "theme(axis.title.x=element_blank(),\n",
    "        axis.text.x=element_blank(),\n",
    "        axis.ticks.x=element_blank(),\n",
    "      axis.title.y=element_blank(),\n",
    "      axis.text.y=element_blank(),\n",
    "      axis.ticks.y=element_blank())\n",
    "```"
   ]
  }
 ],
 "metadata": {
  "kernelspec": {
   "display_name": "R",
   "language": "R",
   "name": "ir"
  },
  "language_info": {
   "codemirror_mode": "r",
   "file_extension": ".r",
   "mimetype": "text/x-r-source",
   "name": "R",
   "pygments_lexer": "r",
   "version": "3.3.1"
  }
 },
 "nbformat": 4,
 "nbformat_minor": 0
}
